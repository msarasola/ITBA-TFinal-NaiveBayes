{
 "cells": [
  {
   "cell_type": "code",
   "execution_count": 2,
   "metadata": {},
   "outputs": [],
   "source": [
    "import pandas as pd\n",
    "import numpy as np\n",
    "from helper import visualize_input, plot_images\n",
    "from matplotlib import pyplot as plt\n",
    "from scipy.stats import multivariate_normal as normal\n",
    "from sklearn.naive_bayes import GaussianNB\n",
    "from sklearn.model_selection import train_test_split\n",
    "from sklearn.preprocessing import LabelEncoder"
   ]
  },
  {
   "cell_type": "markdown",
   "metadata": {},
   "source": [
    "## Clasificador Naive Bayes para estimar el Género a partir de Alturas y Pesos\n",
    "\n",
    "### Trabajo Práctico: Laboratorio de Probabilidad y Estadística en Python\n",
    "\n",
    "#### María Laura Sarasola - Julio 2018"
   ]
  },
  {
   "cell_type": "markdown",
   "metadata": {},
   "source": [
    "### Importamos dataset alturas y pesos"
   ]
  },
  {
   "cell_type": "code",
   "execution_count": 3,
   "metadata": {},
   "outputs": [],
   "source": [
    "# Transformo mi archivo CSV en un pandas.DataFrame. Tabla con etiquetas en filas y columnas\n",
    "df = pd.read_csv('alturas-pesos.csv')"
   ]
  },
  {
   "cell_type": "markdown",
   "metadata": {},
   "source": [
    "### Exploramos datos en el dataset"
   ]
  },
  {
   "cell_type": "code",
   "execution_count": 4,
   "metadata": {},
   "outputs": [],
   "source": [
    "alturas = df['Altura'].values\n",
    "pesos = df['Peso'].values\n",
    "clases = df['Sexo'].values"
   ]
  },
  {
   "cell_type": "code",
   "execution_count": 5,
   "metadata": {},
   "outputs": [
    {
     "name": "stdout",
     "output_type": "stream",
     "text": [
      "Chequeo básico de la lista 'alturas':\n",
      "La lista alturas contiene 10000 elementos, siendo el mínimo 137 y el máximo: 200.\n",
      "\n",
      "El tipo de datos de la lista es int64, y el primer elemento es 187.\n",
      "\n",
      "Lista de alturas: \n",
      "[187 174 188 ... 162 175 157]\n"
     ]
    }
   ],
   "source": [
    "# Exploro datos en alturas\n",
    "print(\"Chequeo básico de la lista 'alturas':\")\n",
    "print(\"La lista alturas contiene {} elementos, siendo el mínimo {} y el máximo: {}.\".format(len(alturas),min(alturas),max(alturas)))\n",
    "print(\"\\nEl tipo de datos de la lista es {}, y el primer elemento es {}.\".format(alturas.dtype,alturas[0]))\n",
    "print(\"\\nLista de alturas: \")\n",
    "print(alturas)"
   ]
  },
  {
   "cell_type": "code",
   "execution_count": 6,
   "metadata": {},
   "outputs": [
    {
     "name": "stdout",
     "output_type": "stream",
     "text": [
      "Chequeo básico de la lista 'pesos':\n",
      "\n",
      "La lista pesos contiene 10000 elementos, siendo el mínimo 29 y el máximo: 122.\n",
      "\n",
      "El tipo de datos de la lista es int64, y el primer elemento es 109.\n",
      "\n",
      "Lista pesos: \n",
      "[109  73  96 ...  58  74  51]\n"
     ]
    }
   ],
   "source": [
    "# Exploro datos en pesos\n",
    "print(\"Chequeo básico de la lista 'pesos':\")\n",
    "print(\"\\nLa lista pesos contiene {} elementos, siendo el mínimo {} y el máximo: {}.\".format(len(pesos),min(pesos),max(pesos)))\n",
    "print(\"\\nEl tipo de datos de la lista es {}, y el primer elemento es {}.\".format(pesos.dtype,pesos[0]))\n",
    "print(\"\\nLista pesos: \")\n",
    "print(pesos)"
   ]
  },
  {
   "cell_type": "code",
   "execution_count": 7,
   "metadata": {},
   "outputs": [
    {
     "name": "stdout",
     "output_type": "stream",
     "text": [
      "Chequeo básico de la lista 'clases':\n",
      "\n",
      "La lista clases contiene 10000 elementos, y cada registro de peso/altura se etiqueta solo como uno de las siguientes clases: ['Hombre', 'Mujer'].\n",
      "\n",
      "Cantidad de registros'Hombre'en la lista:  5000\n",
      "\n",
      "Cantidad de registros'Mujer'en la lista:  5000\n"
     ]
    }
   ],
   "source": [
    "print(\"Chequeo básico de la lista 'clases':\")\n",
    "#Chequeo cuántas clases hay en la lista\n",
    "Clases_Filt = []\n",
    "for i in clases:\n",
    "    if i not in Clases_Filt:\n",
    "        Clases_Filt.append(i)\n",
    "print(\"\\nLa lista clases contiene {} elementos, y cada registro de peso/altura se etiqueta solo como uno de las siguientes clases: {}.\".format(len(clases),Clases_Filt))\n",
    "print(\"\\nCantidad de registros'Hombre'en la lista: \",(clases == 'Hombre').sum())\n",
    "print(\"\\nCantidad de registros'Mujer'en la lista: \",(clases == 'Mujer').sum())"
   ]
  },
  {
   "cell_type": "code",
   "execution_count": 8,
   "metadata": {},
   "outputs": [
    {
     "data": {
      "text/html": [
       "<div>\n",
       "<style scoped>\n",
       "    .dataframe tbody tr th:only-of-type {\n",
       "        vertical-align: middle;\n",
       "    }\n",
       "\n",
       "    .dataframe tbody tr th {\n",
       "        vertical-align: top;\n",
       "    }\n",
       "\n",
       "    .dataframe thead th {\n",
       "        text-align: right;\n",
       "    }\n",
       "</style>\n",
       "<table border=\"1\" class=\"dataframe\">\n",
       "  <thead>\n",
       "    <tr style=\"text-align: right;\">\n",
       "      <th></th>\n",
       "      <th>Sexo</th>\n",
       "      <th>Peso</th>\n",
       "      <th>Altura</th>\n",
       "    </tr>\n",
       "  </thead>\n",
       "  <tbody>\n",
       "    <tr>\n",
       "      <th>0</th>\n",
       "      <td>Hombre</td>\n",
       "      <td>109</td>\n",
       "      <td>187</td>\n",
       "    </tr>\n",
       "    <tr>\n",
       "      <th>1</th>\n",
       "      <td>Hombre</td>\n",
       "      <td>73</td>\n",
       "      <td>174</td>\n",
       "    </tr>\n",
       "    <tr>\n",
       "      <th>2</th>\n",
       "      <td>Hombre</td>\n",
       "      <td>96</td>\n",
       "      <td>188</td>\n",
       "    </tr>\n",
       "    <tr>\n",
       "      <th>3</th>\n",
       "      <td>Hombre</td>\n",
       "      <td>99</td>\n",
       "      <td>182</td>\n",
       "    </tr>\n",
       "    <tr>\n",
       "      <th>4</th>\n",
       "      <td>Hombre</td>\n",
       "      <td>93</td>\n",
       "      <td>177</td>\n",
       "    </tr>\n",
       "  </tbody>\n",
       "</table>\n",
       "</div>"
      ],
      "text/plain": [
       "     Sexo  Peso  Altura\n",
       "0  Hombre   109     187\n",
       "1  Hombre    73     174\n",
       "2  Hombre    96     188\n",
       "3  Hombre    99     182\n",
       "4  Hombre    93     177"
      ]
     },
     "execution_count": 8,
     "metadata": {},
     "output_type": "execute_result"
    }
   ],
   "source": [
    "# Visualizo primeras 5 filas del DataFrame\n",
    "df.head()"
   ]
  },
  {
   "cell_type": "code",
   "execution_count": 9,
   "metadata": {},
   "outputs": [
    {
     "data": {
      "text/plain": [
       "Sexo      object\n",
       "Peso       int64\n",
       "Altura     int64\n",
       "dtype: object"
      ]
     },
     "execution_count": 9,
     "metadata": {},
     "output_type": "execute_result"
    }
   ],
   "source": [
    "# Exploro los tipos de dato inferidos\n",
    "df.dtypes"
   ]
  },
  {
   "cell_type": "code",
   "execution_count": 10,
   "metadata": {},
   "outputs": [
    {
     "name": "stdout",
     "output_type": "stream",
     "text": [
      "\n",
      "Las dimensiones del DataFrame son: (10000, 3)\n"
     ]
    }
   ],
   "source": [
    "# Exploro dimensiones del set de datos\n",
    "print(\"\\nLas dimensiones del DataFrame son:\",df.shape)"
   ]
  },
  {
   "cell_type": "markdown",
   "metadata": {},
   "source": [
    "### Graficamos Histogramas\n",
    "\n",
    "A traves de los histogramas de alturas y pesos inferimos el tipo de ditribución que aplica a los datos."
   ]
  },
  {
   "cell_type": "code",
   "execution_count": 11,
   "metadata": {},
   "outputs": [],
   "source": [
    "# Defino una función para generar los parámetros del histograma, así como las medias y varianzas\n",
    "def get_Dist_Prob_Data(lista):\n",
    "    Hist = [] # Inicializo una lista para realizar el conteo de ocurrencias para cada elemento en la lista\n",
    "    EspM = [] #Inicializo una lista para guardar las ocurrencias unicas del listado\n",
    "    for e in lista:\n",
    "        if e not in EspM:\n",
    "            EspM.append(e)\n",
    "    EspM.sort() #Ordeno la lista\n",
    "    for e in EspM:\n",
    "        Hist.append((lista == e).sum())\n",
    "    mean=round(lista.mean(),2)\n",
    "    var=round(lista.var(),2)\n",
    "    return EspM, Hist, mean, var"
   ]
  },
  {
   "cell_type": "code",
   "execution_count": 12,
   "metadata": {},
   "outputs": [],
   "source": [
    "# Separo los dataframes de Hombres y Mujeres\n",
    "df_H = df.loc[df['Sexo'] == \"Hombre\"]\n",
    "df_M = df.loc[df['Sexo'] == \"Mujer\"]"
   ]
  },
  {
   "cell_type": "code",
   "execution_count": 13,
   "metadata": {},
   "outputs": [
    {
     "name": "stdout",
     "output_type": "stream",
     "text": [
      "\n",
      "Las Mujeres registran alturas comprendidas entre 137 y 186, con media 161.32 y varianza 47.13.\n"
     ]
    },
    {
     "data": {
      "image/png": "[encoded data removed]",
      "text/plain": [
       "<matplotlib.figure.Figure at 0x2585a32dfd0>"
      ]
     },
     "metadata": {},
     "output_type": "display_data"
    },
    {
     "name": "stdout",
     "output_type": "stream",
     "text": [
      "\n",
      "Los Hombres registran alturas comprendidas entre 148 y 200, con media 174.82 y varianza 52.85.\n"
     ]
    },
    {
     "data": {
      "image/png": "[encoded data removed]",
      "text/plain": [
       "<matplotlib.figure.Figure at 0x25859fd4908>"
      ]
     },
     "metadata": {},
     "output_type": "display_data"
    }
   ],
   "source": [
    "#Grafico Histogramas de Altura para hombres y mujeres\n",
    "EspM_Alt_M, Hist_Alt_M, A_Mean_M, A_Var_M=get_Dist_Prob_Data(df_M['Altura'].values) # Datos Mujeres\n",
    "EspM_Alt_H, Hist_Alt_H, A_Mean_H, A_Var_H=get_Dist_Prob_Data(df_H['Altura'].values) # Datos Hombres\n",
    "\n",
    "print(\"\\nLas Mujeres registran alturas comprendidas entre {} y {}, con media {} y varianza {}.\".format(min(EspM_Alt_M),max(EspM_Alt_M), A_Mean_M, A_Var_M))\n",
    "# Grafico el histograma de alturas para Mujeres\n",
    "plt.bar(EspM_Alt_M, Hist_Alt_M)\n",
    "plt.title('Histograma de Alturas')\n",
    "plt.legend(\"Mujeres\",loc='upper right')\n",
    "plt.xlabel('Altura [cms]')\n",
    "plt.ylabel('# Ocurrencias')\n",
    "plt.show()\n",
    "\n",
    "print(\"\\nLos Hombres registran alturas comprendidas entre {} y {}, con media {} y varianza {}.\".format(min(EspM_Alt_H),max(EspM_Alt_H), A_Mean_H, A_Var_H))\n",
    "# Grafico el histograma de alturas para Mujeres\n",
    "plt.bar(EspM_Alt_H, Hist_Alt_H)\n",
    "plt.title('Histograma de Alturas')\n",
    "plt.legend(\"Hombres\",loc='upper right')\n",
    "plt.xlabel('Altura [cms]')\n",
    "plt.ylabel('# Ocurrencias')\n",
    "plt.show()"
   ]
  },
  {
   "cell_type": "code",
   "execution_count": 14,
   "metadata": {},
   "outputs": [
    {
     "data": {
      "image/png": "[encoded data removed]",
      "text/plain": [
       "<matplotlib.figure.Figure at 0x2585a32d400>"
      ]
     },
     "metadata": {},
     "output_type": "display_data"
    }
   ],
   "source": [
    "# Grafico densidades de alturas basadas en medias y varianzas calculadas\n",
    "#Plot\n",
    "x = np.arange(130,205)\n",
    "plt.figure()\n",
    "plt.plot(x,normal.pdf(x,A_Mean_H,A_Var_H),label='Hombres')\n",
    "plt.plot(x,normal.pdf(x,A_Mean_M,A_Var_M),label='Mujeres')\n",
    "plt.legend(loc='upper right')\n",
    "plt.title('Distribuciones de Altura')\n",
    "plt.xlabel('Altura [cms]')\n",
    "plt.ylabel('Densidad de probabilidad')\n",
    "plt.show()"
   ]
  },
  {
   "cell_type": "code",
   "execution_count": 15,
   "metadata": {},
   "outputs": [
    {
     "name": "stdout",
     "output_type": "stream",
     "text": [
      "\n",
      "Las Mujeres registran pesos comprendidos entre 29 y 91, con media 61.12 y varianza 74.52.\n"
     ]
    },
    {
     "data": {
      "image/png": "[encoded data removed]",
      "text/plain": [
       "<matplotlib.figure.Figure at 0x2585a1cdbe0>"
      ]
     },
     "metadata": {},
     "output_type": "display_data"
    },
    {
     "name": "stdout",
     "output_type": "stream",
     "text": [
      "\n",
      "Los Hombres registran pesos comprendidas entre 51 y 122, con media 84.34 y varianza 80.6.\n"
     ]
    },
    {
     "data": {
      "image/png": "[encoded data removed]",
      "text/plain": [
       "<matplotlib.figure.Figure at 0x2585b820048>"
      ]
     },
     "metadata": {},
     "output_type": "display_data"
    }
   ],
   "source": [
    "#Grafico Hitogramas de Peso para hombres y mujeres\n",
    "EspM_Pso_M, Hist_Pso_M, P_Mean_M, P_Var_M=get_Dist_Prob_Data(df_M['Peso'].values) # Datos Mujeres\n",
    "EspM_Pso_H, Hist_Pso_H, P_Mean_H, P_Var_H=get_Dist_Prob_Data(df_H['Peso'].values) # Datos Hombres\n",
    "\n",
    "print(\"\\nLas Mujeres registran pesos comprendidos entre {} y {}, con media {} y varianza {}.\".format(min(EspM_Pso_M),max(EspM_Pso_M), P_Mean_M, P_Var_M))\n",
    "# Grafico el histograma de alturas para Mujeres\n",
    "plt.bar(EspM_Pso_M, Hist_Pso_M)\n",
    "plt.title('Histograma de Pesos')\n",
    "plt.legend(\"Mujeres\",loc='upper right')\n",
    "plt.xlabel('Peso [kgs]')\n",
    "plt.ylabel('# Ocurrencias')\n",
    "plt.show()\n",
    "\n",
    "print(\"\\nLos Hombres registran pesos comprendidas entre {} y {}, con media {} y varianza {}.\".format(min(EspM_Pso_H),max(EspM_Pso_H), P_Mean_H, P_Var_H))\n",
    "# Grafico el histograma de alturas para Mujeres\n",
    "plt.bar(EspM_Pso_H, Hist_Pso_H)\n",
    "plt.title('Histograma de Pesos')\n",
    "plt.legend(\"Hombres\",loc='upper right')\n",
    "plt.xlabel('Peso [kgs]')\n",
    "plt.ylabel('# Ocurrencias')\n",
    "plt.show()"
   ]
  },
  {
   "cell_type": "code",
   "execution_count": 16,
   "metadata": {},
   "outputs": [
    {
     "data": {
      "image/png": "[encoded data removed]",
      "text/plain": [
       "<matplotlib.figure.Figure at 0x2585a1cdd68>"
      ]
     },
     "metadata": {},
     "output_type": "display_data"
    }
   ],
   "source": [
    "# Grafico densidades de pesos basadas en medias y varianzas calculadas\n",
    "#Plot\n",
    "x = np.arange(20,130)\n",
    "plt.figure()\n",
    "plt.plot(x,normal.pdf(x,P_Mean_H,P_Var_H),label='Hombres')\n",
    "plt.plot(x,normal.pdf(x,P_Mean_M,P_Var_M),label='Mujeres')\n",
    "plt.legend(loc='upper right')\n",
    "plt.title('Distribuciones de Peso')\n",
    "plt.xlabel('Peso [Kg]')\n",
    "plt.ylabel('Densidad de probabilidad')\n",
    "plt.show()\n"
   ]
  },
  {
   "cell_type": "markdown",
   "metadata": {},
   "source": [
    "## Realizamos predicciones aplicando Naive Bayes\n",
    "\n",
    "Dado una observación de Altura-Peso, estimo la probabilidad de ser Hombre o Mujer:\n",
    "\n",
    "$$P(H|(altura=a,peso=p))=\\frac{P(altura=a,peso=p| H).P(H)}{P(altura=a,peso=p)}$$\n",
    "\n",
    "$$P(M|(altura=a,peso=p))=\\frac{P(altura=a,peso=p| M).P(M)}{P(altura=a,peso=p)}$$\n",
    "\n",
    "Asumiendo independencia, calcularemos los Likelihoods como:\n",
    "\n",
    "$$P(P(altura=a,peso=p| H)=P(altura=a| H).P(peso=p| H)$$\n",
    "\n",
    "$$P(P(altura=a,peso=p| M)=P(altura=a| M).P(peso=p| M)$$"
   ]
  },
  {
   "cell_type": "markdown",
   "metadata": {},
   "source": [
    "#### Calculo Probabilidad a priori:"
   ]
  },
  {
   "cell_type": "code",
   "execution_count": 17,
   "metadata": {},
   "outputs": [
    {
     "name": "stdout",
     "output_type": "stream",
     "text": [
      "\n",
      "La probabilidad apriori de ser Hombre es:  0.5\n",
      "\n",
      "La probabilidad apriori de ser Mujer es:  0.5\n",
      "\n",
      "Dado que las probabilidades apriori son iguales, no agregan información a la hora de comparar las probabilidades a posteriori\n",
      "De esta forma, podemos estimar el genero a partir del Likelyhood\n"
     ]
    }
   ],
   "source": [
    "# Probabilidad apriori\n",
    "p_H = len(df.loc[df['Sexo'] == \"Hombre\"])/len(df)\n",
    "p_M = len(df.loc[df['Sexo'] == \"Mujer\"])/len(df)\n",
    "print(\"\\nLa probabilidad apriori de ser Hombre es: \",len(df.loc[df['Sexo'] == \"Hombre\"])/len(df))\n",
    "print(\"\\nLa probabilidad apriori de ser Mujer es: \",len(df.loc[df['Sexo'] == \"Mujer\"])/len(df))\n",
    "print(\"\\nDado que las probabilidades apriori son iguales, no agregan información a la hora de comparar las probabilidades a posteriori\")\n",
    "print(\"De esta forma, podemos estimar el genero a partir del Likelyhood\")"
   ]
  },
  {
   "cell_type": "markdown",
   "metadata": {},
   "source": [
    "#### Calculo Likelihoods y realizo predicción:"
   ]
  },
  {
   "cell_type": "code",
   "execution_count": 18,
   "metadata": {},
   "outputs": [],
   "source": [
    "# Dado que los histogramas se generan desde las ocurrencias de pesos y alturas, no es necesario calcular los logaritmos.\n",
    "df_Alt_H = pd.DataFrame(Hist_Alt_H, index=EspM_Alt_H, columns=['Hombre'])\n",
    "df_Alt_M = pd.DataFrame(Hist_Alt_M, index=EspM_Alt_M, columns=['Mujer'])\n",
    "df_Pso_H = pd.DataFrame(Hist_Pso_H, index=EspM_Pso_H, columns=['Hombre'])\n",
    "df_Pso_M = pd.DataFrame(Hist_Pso_M, index=EspM_Pso_M, columns=['Mujer'])\n",
    "\n",
    "def Prediccion(TestPair):\n",
    "    if TestPair[0] not in np.arange(min(df['Altura'].values),max(df['Altura'].values)):\n",
    "        result=\"La altura seleccionada se encuentra fuera del rango admitido [137-200]\"\n",
    "    elif TestPair[1] not in np.arange(min(df['Peso'].values),max(df['Peso'].values)):\n",
    "        result=\"El peso seleccionado se encuentra fuera del rango admitido [29-122]\"\n",
    "    else:\n",
    "        Likelihood_H=(df_Alt_H.loc[TestPair[0]].values/sum(df_Alt_H.values))*(df_Pso_H.loc[TestPair[1]].values/sum(df_Pso_H.values))\n",
    "        Likelihood_M=(df_Alt_M.loc[TestPair[0]].values/sum(df_Alt_M.values))*(df_Pso_M.loc[TestPair[1]].values/sum(df_Pso_M.values))\n",
    "        if Likelihood_H > Likelihood_M:\n",
    "            result=\"Hombre\"\n",
    "        else:\n",
    "            result=\"Mujer\"\n",
    "    return result"
   ]
  },
  {
   "cell_type": "code",
   "execution_count": 19,
   "metadata": {},
   "outputs": [
    {
     "name": "stdout",
     "output_type": "stream",
     "text": [
      "La predicción para el par altura 180 y peso 79 es: Hombre\n"
     ]
    }
   ],
   "source": [
    "## Testeo predicciones\n",
    "testPair=[180,79]\n",
    "Predict=Prediccion(testPair)\n",
    "print(\"La predicción para el par altura {} y peso {} es: {}\".format(testPair[0],testPair[1],Predict))"
   ]
  },
  {
   "cell_type": "markdown",
   "metadata": {},
   "source": [
    "## Clasificador Gaussiano Naive Bayes"
   ]
  },
  {
   "cell_type": "code",
   "execution_count": 20,
   "metadata": {},
   "outputs": [
    {
     "name": "stdout",
     "output_type": "stream",
     "text": [
      "Dimensiones del dataFrame:  (10000, 3)\n",
      "     Sexo  Peso  Altura\n",
      "0  Hombre   109     187\n",
      "1  Hombre    73     174\n",
      "2  Hombre    96     188\n",
      "     Sexo  Peso  Altura  Sexo_\n",
      "0  Hombre   109     187      0\n",
      "1  Hombre    73     174      0\n",
      "2  Hombre    96     188      0\n"
     ]
    },
    {
     "data": {
      "text/plain": [
       "GaussianNB(priors=None)"
      ]
     },
     "execution_count": 20,
     "metadata": {},
     "output_type": "execute_result"
    }
   ],
   "source": [
    "# Realizo el clasificador entrenado con mi data set usando GaussianNB\n",
    "# Decido armar un nuevo df, para no alerar el anterior\n",
    "df_C = pd.read_csv('alturas-pesos.csv')\n",
    "\n",
    "print(\"Dimensiones del dataFrame: \",df_C.shape)\n",
    "print(df_C.head(3))\n",
    "#Transformamos etiquetas de nombres en números\n",
    "le = LabelEncoder()\n",
    "le.fit(df_C['Sexo'])\n",
    "df_C['Sexo_'] = le.transform(df['Sexo'])\n",
    "clases_Num = df_C['Sexo_'].values\n",
    "print(df_C.head(3))\n",
    "\n",
    "#Doy formato al set de datos, para que pueda ser tomada por el Clasificador\n",
    "trainData = df_C[['Altura', 'Peso']].values\n",
    "trainTarget = df_C[['Sexo_']].values.ravel()\n",
    "\n",
    "GNB_Classifier = GaussianNB() # Selecciono Clasificador\n",
    "GNB_Classifier.fit(trainData, trainTarget) # Entreno clasificador"
   ]
  },
  {
   "cell_type": "code",
   "execution_count": 21,
   "metadata": {},
   "outputs": [
    {
     "name": "stdout",
     "output_type": "stream",
     "text": [
      "La predicción para el par la altura 160 y el peso 50 es: Mujer\n"
     ]
    }
   ],
   "source": [
    "#Realizamos la predicción de un set cualquiera de Altura-Peso\n",
    "\n",
    "Test_Pair = [160, 50] # Par Altura-Peso para generar predicción\n",
    "\n",
    "prediction = GNB_Classifier.predict([Test_Pair])\n",
    "if prediction == 0:\n",
    "    result=\"Hombre\"\n",
    "else:\n",
    "    result=\"Mujer\"\n",
    "print(\"La predicción para el par la altura {} y el peso {} es: {}\".format(Test_Pair[0],Test_Pair[1],result))"
   ]
  },
  {
   "cell_type": "code",
   "execution_count": 22,
   "metadata": {},
   "outputs": [
    {
     "name": "stdout",
     "output_type": "stream",
     "text": [
      "La precisión de mi clasificador, probado sobre los datos de entrenamiento es: 88.63%\n",
      "Las clasificaciones erroneas, representan un: 11.37%\n"
     ]
    }
   ],
   "source": [
    "# Realizo una predicción para mi set de datos\n",
    "aciertos=sum(np.array(GNB_Classifier.predict(trainData))==np.array(trainTarget))/trainTarget.shape[0]*100\n",
    "print(\"La precisión de mi clasificador, probado sobre los datos de entrenamiento es: {}%\".format(aciertos))\n",
    "\n",
    "error=round(100.-aciertos,2)\n",
    "print(\"Las clasificaciones erroneas, representan un: {}%\".format(error))"
   ]
  },
  {
   "cell_type": "code",
   "execution_count": 23,
   "metadata": {},
   "outputs": [
    {
     "name": "stdout",
     "output_type": "stream",
     "text": [
      "Las dimensiones de mi set de entrenamiento son: (6700, 4)\n",
      "Las dimensiones de mi set de testing son: (3300, 4)\n",
      "Primeras 5 filas de mi set de entrenamiento:\n",
      "         Sexo  Peso  Altura  Sexo_\n",
      "3951  Hombre    87     176      0\n",
      "2736  Hombre    85     175      0\n",
      "2628  Hombre    98     178      0\n",
      "5904   Mujer    58     158      1\n",
      "9846   Mujer    87     179      1\n"
     ]
    }
   ],
   "source": [
    "# Ahora divido mi set de datos para utilizar una parte para entrenamiento y el resto para training\n",
    "\n",
    "trainSet, testSet = train_test_split(df_C, test_size = 0.33)\n",
    "print(\"Las dimensiones de mi set de entrenamiento son:\",trainSet.shape)\n",
    "print(\"Las dimensiones de mi set de testing son:\",testSet.shape)\n",
    "print(\"Primeras 5 filas de mi set de entrenamiento:\\n\",trainSet.head())\n"
   ]
  },
  {
   "cell_type": "code",
   "execution_count": 24,
   "metadata": {},
   "outputs": [
    {
     "data": {
      "text/plain": [
       "GaussianNB(priors=None)"
      ]
     },
     "execution_count": 24,
     "metadata": {},
     "output_type": "execute_result"
    }
   ],
   "source": [
    "# Doy formato al nuevo set de entrenamiento\n",
    "trainData_New = trainSet[['Altura', 'Peso']].values\n",
    "trainTarget_New = trainSet[['Sexo_']].values.ravel()\n",
    "\n",
    "testData = testSet[['Altura', 'Peso']].values\n",
    "testTarget = testSet[['Sexo_']].values.ravel()\n",
    "\n",
    "GNB_Classifier2 = GaussianNB() # Selecciono Clasificador\n",
    "GNB_Classifier2.fit(trainData_New, trainTarget_New) # Entreno clasificador"
   ]
  },
  {
   "cell_type": "code",
   "execution_count": 25,
   "metadata": {},
   "outputs": [
    {
     "name": "stdout",
     "output_type": "stream",
     "text": [
      "La precisión de mi clasificador, probado sobre los datos de testing es del 87.97%.\n"
     ]
    }
   ],
   "source": [
    "# Testeo Clasificador con set de testing\n",
    "Predict_Values = GNB_Classifier2.predict(testData)\n",
    "error = (testTarget != Predict_Values) # Otra forma de calcular la precisión: Obtengo vector que marca las no coincidencias como True\n",
    "errores = (testTarget != Predict_Values).sum()\n",
    "precision = 1.0 - errores / testTarget.shape[0]\n",
    "print(\"La precisión de mi clasificador, probado sobre los datos de testing es del {}%.\".format(round(precision*100,2)))"
   ]
  },
  {
   "cell_type": "markdown",
   "metadata": {},
   "source": [
    "### FIN!"
   ]
  }
 ],
 "metadata": {
  "kernelspec": {
   "display_name": "Python 3",
   "language": "python",
   "name": "python3"
  },
  "language_info": {
   "codemirror_mode": {
    "name": "ipython",
    "version": 3
   },
   "file_extension": ".py",
   "mimetype": "text/x-python",
   "name": "python",
   "nbconvert_exporter": "python",
   "pygments_lexer": "ipython3",
   "version": "3.6.4"
  }
 },
 "nbformat": 4,
 "nbformat_minor": 2
}
